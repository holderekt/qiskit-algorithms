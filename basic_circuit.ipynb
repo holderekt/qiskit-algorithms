{
 "cells": [
  {
   "attachments": {},
   "cell_type": "markdown",
   "metadata": {},
   "source": [
    "# 0. Import "
   ]
  },
  {
   "cell_type": "code",
   "execution_count": null,
   "metadata": {},
   "outputs": [],
   "source": [
    "from qiskit import QuantumRegister, ClassicalRegister, QuantumCircuit, transpile\n",
    "from qiskit import Aer, execute\n",
    "from qiskit.extensions import Initialize\n",
    "from qiskit.tools.visualization import plot_histogram, plot_bloch_multivector, array_to_latex\n",
    "from qiskit.quantum_info import partial_trace, Statevector, random_statevector\n",
    "import numpy as np\n",
    "import math"
   ]
  },
  {
   "cell_type": "code",
   "execution_count": null,
   "metadata": {},
   "outputs": [],
   "source": [
    "def create_bell_state(circuit, q1, q2):\n",
    "    circuit.h(q1)\n",
    "    circuit.cnot(q1, q2)\n",
    "\n",
    "def create_bell_state(circuit, register):\n",
    "    circuit.h(register[0])\n",
    "    circuit.cnot(register[0], register[1])\n",
    "\n",
    "def teleport_gates(circuit, alice_qbit, alice_ent):\n",
    "    circuit.cnot(alice_qbit, alice_ent)\n",
    "    circuit.h(alice_qbit)\n",
    "\n",
    "\n",
    "def swap(circuit, q1, q2):\n",
    "    circuit.cnot(q1, q2)\n",
    "    circuit.cnot(q2,q1)\n",
    "    circuit.cnot(q1, q2)"
   ]
  },
  {
   "attachments": {},
   "cell_type": "markdown",
   "metadata": {},
   "source": [
    "# 1. Entaglement Circuit"
   ]
  },
  {
   "cell_type": "code",
   "execution_count": null,
   "metadata": {},
   "outputs": [],
   "source": [
    "# Entaglement circuit\n",
    "\n",
    "INITIAL_VALUES = [0, 1]\n",
    "\n",
    "qreg = QuantumRegister(2, 'q')\n",
    "creg = ClassicalRegister(2, 'c')\n",
    "qc = QuantumCircuit(qreg, creg)\n",
    "\n",
    "for id, element in enumerate(INITIAL_VALUES):\n",
    "    if element:\n",
    "        qc.x(id)\n",
    "\n",
    "qc.barrier()\n",
    "\n",
    "qc.h(0)\n",
    "\n",
    "qc.cx(0,1)\n",
    "\n",
    "qc.barrier()\n",
    "\n",
    "qc.measure(qreg, creg)\n",
    "qc.draw(output='mpl')"
   ]
  },
  {
   "cell_type": "code",
   "execution_count": null,
   "metadata": {},
   "outputs": [],
   "source": [
    "# Esecuzione completa\n",
    "\n",
    "backend = Aer.get_backend(\"qasm_simulator\")\n",
    "job = execute(qc, backend,shots=1000)\n",
    "result = job.result()\n",
    "plot_histogram(result.get_counts())"
   ]
  },
  {
   "attachments": {},
   "cell_type": "markdown",
   "metadata": {},
   "source": [
    "# 2. Teleportation"
   ]
  },
  {
   "cell_type": "code",
   "execution_count": null,
   "metadata": {},
   "outputs": [],
   "source": [
    "psi = random_statevector(2)\n",
    "display(array_to_latex(psi, prefix=\"|\\\\psi\\\\rangle =\"))\n",
    "display(plot_bloch_multivector(psi))\n",
    "init_gate = Initialize(psi)"
   ]
  },
  {
   "cell_type": "code",
   "execution_count": null,
   "metadata": {},
   "outputs": [],
   "source": [
    "def teleport_gates(circuit, alice_qbit, alice_ent):\n",
    "    circuit.cnot(alice_qbit, alice_ent)\n",
    "    circuit.h(alice_qbit)\n",
    "\n",
    "\n",
    "qbit = QuantumRegister(1, 'q')\n",
    "enreg = QuantumRegister(2, 'b')\n",
    "cz = ClassicalRegister(1,  'cz')\n",
    "cx = ClassicalRegister(1,  'cx')\n",
    "\n",
    "qc = QuantumCircuit(qbit, enreg, cx, cz, name=\"Teleportation\")\n",
    "\n",
    "\n",
    "#Inizializzo il qbit da inviare\n",
    "qc.append(init_gate, [0])\n",
    "qc.barrier()\n",
    "\n",
    "# Entaglement qbit condivisi\n",
    "create_bell_state(qc, enreg)\n",
    "qc.barrier()\n",
    "\n",
    "# Teletrasporto\n",
    "teleport_gates(qc, qbit, enreg[0])\n",
    "qc.barrier()\n",
    "\n",
    "#Misurazione primi due\n",
    "qc.measure(enreg[0], cx)\n",
    "qc.measure(qbit, cz)\n",
    "qc.barrier()\n",
    "\n",
    "#Trasformazione da classical register\n",
    "qc.x(enreg[1]).c_if(cx, 1)\n",
    "qc.z(enreg[1]).c_if(cz, 1)\n",
    "\n",
    "\n",
    "\n",
    "qc.draw(output='mpl')"
   ]
  },
  {
   "cell_type": "code",
   "execution_count": null,
   "metadata": {},
   "outputs": [],
   "source": [
    "# Esecuzione completa\n",
    "\n",
    "backend = Aer.get_backend(\"aer_simulator\")\n",
    "qc.save_statevector()\n",
    "out_vector = backend.run(qc).result().get_statevector()\n",
    "display(plot_bloch_multivector(psi))\n",
    "display(plot_bloch_multivector(out_vector))"
   ]
  },
  {
   "attachments": {},
   "cell_type": "markdown",
   "metadata": {},
   "source": [
    "# 3. Toffoli e Swap"
   ]
  },
  {
   "cell_type": "code",
   "execution_count": null,
   "metadata": {},
   "outputs": [],
   "source": [
    "def swap(circuit, q1, q2):\n",
    "    circuit.cnot(q1, q2)\n",
    "    circuit.cnot(q2,q1)\n",
    "    circuit.cnot(q1, q2)\n",
    "\n",
    "\n",
    "q = random_statevector(dims=(2,2))\n",
    "display(plot_bloch_multivector(q))\n",
    "\n",
    "\n",
    "init_gate = Initialize(q)\n",
    "\n",
    "qreg = QuantumRegister(2, 'q')\n",
    "qc = QuantumCircuit(qreg)\n",
    "\n",
    "\n",
    "qc.append(init_gate, [0,1])\n",
    "qc.barrier()\n",
    "\n",
    "swap(qc, qreg[0], qreg[1])\n",
    "\n",
    "display(qc.draw(output='mpl'))\n",
    "\n",
    "\n",
    "backend = Aer.get_backend(\"aer_simulator\")\n",
    "qc.save_statevector()\n",
    "out_vector = backend.run(qc).result().get_statevector()\n",
    "display(plot_bloch_multivector(out_vector))\n"
   ]
  }
 ],
 "metadata": {
  "kernelspec": {
   "display_name": "base",
   "language": "python",
   "name": "python3"
  },
  "language_info": {
   "codemirror_mode": {
    "name": "ipython",
    "version": 3
   },
   "file_extension": ".py",
   "mimetype": "text/x-python",
   "name": "python",
   "nbconvert_exporter": "python",
   "pygments_lexer": "ipython3",
   "version": "3.9.13 (main, Aug 25 2022, 23:26:10) \n[GCC 11.2.0]"
  },
  "vscode": {
   "interpreter": {
    "hash": "ad11a8bee41c5e9e49935bcfc057bf24c040f5e4c134dd6ff301c88f66bc37e6"
   }
  }
 },
 "nbformat": 4,
 "nbformat_minor": 2
}
