{
 "cells": [
  {
   "cell_type": "code",
   "execution_count": null,
   "metadata": {},
   "outputs": [],
   "source": [
    "import json\n",
    "import math\n",
    "import matplotlib.pyplot as plt\n",
    "import numpy as np\n",
    "from sklearn import datasets\n",
    "\n",
    "from qiskit import ClassicalRegister, QuantumCircuit, QuantumRegister\n",
    "from qiskit.circuit.library import PauliFeatureMap, ZFeatureMap, ZZFeatureMap\n",
    "\n",
    "from qiskit.opflow import X, Y, Z, I, CircuitStateFn\n",
    "from qiskit.opflow.state_fns import StateFn\n",
    "from qiskit.opflow.expectations import PauliExpectation, MatrixExpectation\n",
    "from qiskit.opflow.converters import CircuitSampler\n",
    "from qiskit.providers.aer import QasmSimulator\n",
    "from qiskit.quantum_info import Statevector, state_fidelity\n",
    "\n",
    "from sklearn import datasets\n",
    "from sklearn.cluster import DBSCAN, AgglomerativeClustering, KMeans\n",
    "from sklearn.decomposition import PCA\n",
    "from sklearn.impute import KNNImputer\n",
    "from sklearn.metrics import silhouette_samples, silhouette_score\n",
    "from sklearn.mixture import GaussianMixture\n",
    "from sklearn.model_selection import train_test_split\n",
    "from sklearn.preprocessing import MinMaxScaler, OneHotEncoder, StandardScaler\n",
    "from sklearn.svm import SVC\n",
    "from sklearn import metrics\n",
    "\n",
    "import matplotlib.cm as cm\n",
    "\n",
    "%matplotlib inline"
   ]
  },
  {
   "cell_type": "code",
   "execution_count": null,
   "metadata": {},
   "outputs": [],
   "source": [
    "def angles_encoding(x):\n",
    "    N_QBIT = math.ceil(math.log2(x.size))\n",
    "    value =  math.sqrt(1/(np.sum(x.flatten()**2)))\n",
    "    state_preparation = np.append(x.flatten() * value, [0] * (2**N_QBIT - x.size))\n",
    "\n",
    "    qc = QuantumCircuit(N_QBIT, N_QBIT)\n",
    "    qc.initialize(state_preparation, range(N_QBIT))\n",
    "\n",
    "    return qc\n",
    "\n",
    "def fidelity(x, y, encoding):\n",
    "    stx = Statevector.from_instruction(encoding(x))\n",
    "    sty = Statevector.from_instruction(encoding(y))\n",
    "    return state_fidelity(stx, sty)\n",
    "\n",
    "\n",
    "def fidelity_matrix(dataset, encoding):\n",
    "\n",
    "    mat = np.zeros((dataset.shape[0], dataset.shape[0]))\n",
    "\n",
    "    for i in range(dataset.shape[0]):\n",
    "        for j in range(i):\n",
    "            dis = fidelity(dataset[i], dataset[j], encoding)\n",
    "            mat[i,j] = dis\n",
    "            mat[j,i] = dis\n",
    "\n",
    "    return mat\n",
    "\n",
    "def euclidean_matrix(dataset):\n",
    "    mat = np.zeros((dataset.shape[0], dataset.shape[0]))\n",
    "\n",
    "    for i in range(dataset.shape[0]):\n",
    "        for j in range(i):\n",
    "            dis = np.sqrt(np.sum((dataset[i] - dataset[j])**2))\n",
    "            mat[i,j] = dis\n",
    "            mat[j,i] = dis\n",
    "\n",
    "    return mat"
   ]
  },
  {
   "cell_type": "code",
   "execution_count": null,
   "metadata": {},
   "outputs": [],
   "source": [
    "def ag_clustering(dataset, classes, dissimilarity_matrix, linkage=\"complete\", title=\"\"):\n",
    "    clustering = AgglomerativeClustering(affinity='precomputed', n_clusters=np.unique(classes).size,  linkage=linkage).fit(dissimilarity_matrix)\n",
    "\n",
    "    labels = clustering.labels_\n",
    "    cmap = plt.cm.get_cmap(\"Accent\").copy()\n",
    "    cmap.set_under('red')\n",
    "    contingency_matrix = metrics.cluster.contingency_matrix(classes, labels)\n",
    "\n",
    "    fig, axs = plt.subplots(1,2)\n",
    "    fig.suptitle(title)\n",
    "    fig.set_size_inches(15,6)\n",
    "\n",
    "    axs[0].set_title(\"Contingency Matrix\")\n",
    "    axs[0].matshow(contingency_matrix, cmap='RdPu')\n",
    "    axs[1].set_title(\"Predicted Clusters\")\n",
    "    axs[1].scatter(dataset[:,0], dataset[:,1], c=labels, cmap=cmap)\n",
    "\n",
    "\n",
    "def dbscan_clustering(dataset, classes, dissimilarity_matrix, eps=0.5, min_samples=5, title=\"\"):\n",
    "    clustering = DBSCAN(eps=eps, min_samples=min_samples, metric='precomputed').fit(dissimilarity_matrix)\n",
    "\n",
    "    labels = clustering.labels_\n",
    "    cmap = plt.cm.get_cmap(\"Accent\").copy()\n",
    "    cmap.set_under('red')\n",
    "    contingency_matrix = metrics.cluster.contingency_matrix(classes, labels)\n",
    "\n",
    "    fig, axs = plt.subplots(1,2)\n",
    "    fig.suptitle(title)\n",
    "    fig.set_size_inches(15,6)\n",
    "\n",
    "    axs[0].set_title(\"Contingency Matrix\")\n",
    "    axs[0].matshow(contingency_matrix, cmap='RdPu')\n",
    "    axs[1].set_title(\"Predicted Clusters\")\n",
    "    axs[1].scatter(dataset[:,0], dataset[:,1], c=labels, cmap=cmap)"
   ]
  },
  {
   "cell_type": "code",
   "execution_count": null,
   "metadata": {},
   "outputs": [],
   "source": [
    "TRAIN_SIZE = 50\n",
    "\n",
    "dataset, classes = datasets.make_blobs(n_samples=TRAIN_SIZE, random_state=10, centers=2, n_features=2)\n",
    "dataset = np.array(dataset)\n",
    "scaler = MinMaxScaler(feature_range=(-1,1))\n",
    "dataset = scaler.fit_transform(dataset)\n",
    "\n",
    "plt.scatter(dataset[:,0], dataset[:,1], c=classes, cmap=\"Accent\")"
   ]
  },
  {
   "cell_type": "code",
   "execution_count": null,
   "metadata": {},
   "outputs": [],
   "source": [
    "encode_map = ZZFeatureMap(feature_dimension=dataset.shape[1], reps=1, entanglement='linear', insert_barriers=True)\n",
    "\n",
    "fid_ZZ = fidelity_matrix(dataset, encode_map.bind_parameters)\n",
    "fid_AG = fidelity_matrix(dataset, angles_encoding)\n",
    "eu_mat = euclidean_matrix(dataset)\n",
    "\n",
    "\n",
    "fig, axs = plt.subplots(1,3)\n",
    "fig.set_size_inches(15,6)\n",
    "\n",
    "axs[0].matshow(fid_ZZ, cmap='RdPu')\n",
    "axs[0].set_title(\"Fidelity + ZZ Encoding\")\n",
    "axs[1].matshow(fid_AG, cmap='RdPu')\n",
    "axs[1].set_title(\"Fidelity + Angles Encoding\")\n",
    "axs[2].matshow(eu_mat, cmap='RdPu')\n",
    "axs[2].set_title(\"Euclidean Distance\")\n",
    "\n",
    "fig.show()"
   ]
  },
  {
   "cell_type": "code",
   "execution_count": null,
   "metadata": {},
   "outputs": [],
   "source": [
    "ag_clustering(dataset, classes, fid_ZZ, linkage=\"complete\", title=\"Agglomerative + Fidelity + ZZ\")\n",
    "ag_clustering(dataset, classes, fid_AG, linkage=\"complete\", title=\"Agglomerative + Fidelity + Angles\")\n",
    "ag_clustering(dataset, classes, eu_mat, linkage=\"complete\", title=\"Agglomerative + Fidelity + Euclidean\")"
   ]
  }
 ],
 "metadata": {
  "kernelspec": {
   "display_name": "base",
   "language": "python",
   "name": "python3"
  },
  "language_info": {
   "codemirror_mode": {
    "name": "ipython",
    "version": 3
   },
   "file_extension": ".py",
   "mimetype": "text/x-python",
   "name": "python",
   "nbconvert_exporter": "python",
   "pygments_lexer": "ipython3",
   "version": "3.9.13"
  },
  "vscode": {
   "interpreter": {
    "hash": "ad11a8bee41c5e9e49935bcfc057bf24c040f5e4c134dd6ff301c88f66bc37e6"
   }
  }
 },
 "nbformat": 4,
 "nbformat_minor": 2
}
