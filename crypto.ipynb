{
 "cells": [
  {
   "cell_type": "code",
   "execution_count": null,
   "metadata": {},
   "outputs": [],
   "source": [
    "from qiskit import QuantumRegister, ClassicalRegister, QuantumCircuit, transpile\n",
    "from qiskit import Aer, execute\n",
    "from qiskit.extensions import Initialize\n",
    "from qiskit.tools.visualization import plot_histogram, plot_bloch_multivector, array_to_latex\n",
    "from qiskit.quantum_info import partial_trace, Statevector, random_statevector, Operator\n",
    "from qiskit_textbook.tools import simon_oracle\n",
    "import numpy as np\n",
    "import math"
   ]
  },
  {
   "cell_type": "code",
   "execution_count": null,
   "metadata": {},
   "outputs": [],
   "source": [
    "def create_bell_state(circuit, q1, q2):\n",
    "    circuit.h(q1)\n",
    "    circuit.cnot(q1, q2)\n",
    "\n",
    "def create_bell_state(circuit, register):\n",
    "    circuit.h(register[0])\n",
    "    circuit.cnot(register[0], register[1])\n",
    "\n",
    "def teleport_gates(circuit, alice_qbit, alice_ent):\n",
    "    circuit.cnot(alice_qbit, alice_ent)\n",
    "    circuit.h(alice_qbit)\n",
    "\n",
    "\n",
    "def swap(circuit, q1, q2):\n",
    "    circuit.cnot(q1, q2)\n",
    "    circuit.cnot(q2,q1)\n",
    "    circuit.cnot(q1, q2)"
   ]
  },
  {
   "attachments": {},
   "cell_type": "markdown",
   "metadata": {},
   "source": [
    "# BB84 Protocol"
   ]
  },
  {
   "cell_type": "code",
   "execution_count": null,
   "metadata": {},
   "outputs": [],
   "source": []
  }
 ],
 "metadata": {
  "kernelspec": {
   "display_name": "base",
   "language": "python",
   "name": "python3"
  },
  "language_info": {
   "codemirror_mode": {
    "name": "ipython",
    "version": 3
   },
   "file_extension": ".py",
   "mimetype": "text/x-python",
   "name": "python",
   "nbconvert_exporter": "python",
   "pygments_lexer": "ipython3",
   "version": "3.9.13"
  },
  "vscode": {
   "interpreter": {
    "hash": "ad11a8bee41c5e9e49935bcfc057bf24c040f5e4c134dd6ff301c88f66bc37e6"
   }
  }
 },
 "nbformat": 4,
 "nbformat_minor": 2
}
