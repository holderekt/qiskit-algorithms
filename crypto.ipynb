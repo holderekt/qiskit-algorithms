{
 "cells": [
  {
   "cell_type": "code",
   "execution_count": null,
   "metadata": {},
   "outputs": [],
   "source": [
    "from qiskit import QuantumRegister, ClassicalRegister, QuantumCircuit, transpile,assemble\n",
    "from qiskit import Aer, execute\n",
    "from qiskit.extensions import Initialize\n",
    "from qiskit.tools.visualization import plot_histogram, plot_bloch_multivector, array_to_latex\n",
    "from qiskit.quantum_info import partial_trace, Statevector, random_statevector, Operator\n",
    "from qiskit_textbook.tools import simon_oracle\n",
    "import numpy as np\n",
    "import math"
   ]
  },
  {
   "cell_type": "code",
   "execution_count": null,
   "metadata": {},
   "outputs": [],
   "source": [
    "def create_bell_state(circuit, q1, q2):\n",
    "    circuit.h(q1)\n",
    "    circuit.cnot(q1, q2)\n",
    "\n",
    "def create_bell_state(circuit, register):\n",
    "    circuit.h(register[0])\n",
    "    circuit.cnot(register[0], register[1])\n",
    "\n",
    "def teleport_gates(circuit, alice_qbit, alice_ent):\n",
    "    circuit.cnot(alice_qbit, alice_ent)\n",
    "    circuit.h(alice_qbit)\n",
    "\n",
    "\n",
    "def swap(circuit, q1, q2):\n",
    "    circuit.cnot(q1, q2)\n",
    "    circuit.cnot(q2,q1)\n",
    "    circuit.cnot(q1, q2)"
   ]
  },
  {
   "attachments": {},
   "cell_type": "markdown",
   "metadata": {},
   "source": [
    "# BB84 Protocol"
   ]
  },
  {
   "attachments": {},
   "cell_type": "markdown",
   "metadata": {},
   "source": [
    "## Trasmissione semplice"
   ]
  },
  {
   "attachments": {},
   "cell_type": "markdown",
   "metadata": {},
   "source": [
    "Trasmissione perfetta senza intrusione"
   ]
  },
  {
   "cell_type": "code",
   "execution_count": null,
   "metadata": {},
   "outputs": [],
   "source": [
    "\n",
    "\n",
    "qbit = QuantumRegister(1, 'q')\n",
    "cbit = ClassicalRegister(1, 'c')\n",
    "qc = QuantumCircuit(qbit, cbit)\n",
    "\n",
    "\n",
    "qc.h(qbit)\n",
    "qc.barrier()\n",
    "qc.h(qbit)\n",
    "\n",
    "qc.measure(qbit, cbit)\n",
    "\n",
    "display(qc.draw(output=\"mpl\"))\n",
    "\n",
    "backend = Aer.get_backend(\"qasm_simulator\")\n",
    "job = execute(qc, backend,shots=1000)\n",
    "result = job.result()\n",
    "plot_histogram(result.get_counts())\n"
   ]
  },
  {
   "attachments": {},
   "cell_type": "markdown",
   "metadata": {},
   "source": [
    "Trasmissione dati con intrusione\n"
   ]
  },
  {
   "cell_type": "code",
   "execution_count": null,
   "metadata": {},
   "outputs": [],
   "source": [
    "qbit = QuantumRegister(1, 'q')\n",
    "cbit = ClassicalRegister(1, 'c')\n",
    "qc = QuantumCircuit(qbit, cbit)\n",
    "\n",
    "\n",
    "qc.h(qbit)\n",
    "qc.measure(qbit, cbit)\n",
    "qc.barrier()\n",
    "\n",
    "\n",
    "qc.h(qbit)\n",
    "qc.measure(qbit, cbit)\n",
    "\n",
    "\n",
    "\n",
    "display(qc.draw(output=\"mpl\"))\n",
    "\n",
    "backend = Aer.get_backend(\"qasm_simulator\")\n",
    "job = execute(qc, backend,shots=1000)\n",
    "result = job.result()\n",
    "plot_histogram(result.get_counts())"
   ]
  },
  {
   "attachments": {},
   "cell_type": "markdown",
   "metadata": {},
   "source": [
    "## Trasmissione della chiave"
   ]
  },
  {
   "cell_type": "code",
   "execution_count": null,
   "metadata": {},
   "outputs": [],
   "source": [
    "def code_base(bases):\n",
    "    return np.array([('+' if a == 0 else 'x') for a in bases])\n",
    "\n",
    "\n",
    "def encoder(bits, bases):\n",
    "    message = []\n",
    "    for bit, base in zip(bits, bases):\n",
    "        qc = QuantumCircuit(1,1)\n",
    "        if base == 0 and bit == 0:\n",
    "            pass\n",
    "        elif base == 0 and bit == 1:\n",
    "            qc.x(0)\n",
    "        elif base == 1 and bit == 0:\n",
    "            qc.h(0)\n",
    "        elif base == 1 and bit == 1:\n",
    "            qc.x(0)\n",
    "            qc.h(0)\n",
    "        message.append(qc)\n",
    "    return message\n",
    "\n",
    "\n",
    "def decoder(message, bases):\n",
    "    backend = Aer.get_backend(\"aer_simulator\")\n",
    "    \n",
    "    decoded_message = []\n",
    "    for bit, base in zip(message, bases):\n",
    "        if base == 0:\n",
    "            bit.measure(0,0)\n",
    "        elif base == 1:\n",
    "            bit.h(0)\n",
    "            bit.measure(0,0)\n",
    "\n",
    "        qobj = assemble(bit, shots=1, memory=True)\n",
    "        decoded_message.append(int(backend.run(qobj).result().get_memory()[0]))\n",
    "    return np.array(decoded_message)\n",
    "\n",
    "\n",
    "def remove_garbage(a_bases, b_bases, bits):\n",
    "    return np.array([i for a,b,i  in zip(a_bases, b_bases, bits) if a==b ])\n",
    "\n",
    "def sample(bits, selection):\n",
    "    return np.array([bits[np.mod(i, len(bits))] for i in selection])\n"
   ]
  },
  {
   "attachments": {},
   "cell_type": "markdown",
   "metadata": {},
   "source": [
    "- 1) Il messaggio viene trasmesso\n",
    "- 2) Il ricevente decodifica il messaggio\n",
    "- 2) Su un canale pubblico vengono condivise le basi, vengono rimossi i bit con basi diverse\n",
    "- 3) Eseguo un sample dei bit per creare la chiave pubblica"
   ]
  },
  {
   "cell_type": "code",
   "execution_count": null,
   "metadata": {},
   "outputs": [],
   "source": [
    "np.random.seed(seed=0)\n",
    "\n",
    "BIT_SIZE = 30\n",
    "\n",
    "\n",
    "alice_bits = np.random.randint(2, size=BIT_SIZE)\n",
    "alice_bases = np.random.randint(2, size=BIT_SIZE)\n",
    "bob_bases = np.random.randint(2, size=BIT_SIZE)\n",
    "\n",
    "display(f\"Alice sent message:   {alice_bits}\")\n",
    "display(f\"Alice bases:          {alice_bases}\")\n",
    "display(f\"Bob   bases:          {bob_bases}\")\n",
    "\n",
    "encoded_message = encoder(alice_bits, alice_bases)\n",
    "decoded_message = decoder(encoded_message, bob_bases)\n",
    "\n",
    "display(f\"Bob received message: {decoded_message}\")\n",
    "\n",
    "bob_key = remove_garbage(alice_bases, bob_bases, decoded_message)\n",
    "alice_key = remove_garbage(alice_bases, bob_bases, alice_bits)\n",
    "\n",
    "display(f\"Alice key:            {alice_key}\")\n",
    "display(f\"Bob key:              {bob_key}\")\n",
    "display(f\"KEY EQUAL:            {str((alice_key == bob_key).all()).upper()}\")\n",
    "\n",
    "\n",
    "SAMPLE_SIZE = 30\n",
    "SELECTION = np.random.randint(BIT_SIZE, size=SAMPLE_SIZE)\n",
    "\n",
    "\n",
    "alice_sample = sample(alice_key, SELECTION)\n",
    "bob_sample = sample(bob_key, SELECTION)\n",
    "\n",
    "display(f\"Alice sample:         {alice_sample}\")\n",
    "display(f\"Bob sample:           {bob_sample}\")\n"
   ]
  },
  {
   "cell_type": "code",
   "execution_count": null,
   "metadata": {},
   "outputs": [],
   "source": [
    "np.random.seed(seed=0)\n",
    "\n",
    "BIT_SIZE = 30\n",
    "\n",
    "\n",
    "alice_bits = np.random.randint(2, size=BIT_SIZE)\n",
    "alice_bases = np.random.randint(2, size=BIT_SIZE)\n",
    "bob_bases = np.random.randint(2, size=BIT_SIZE)\n",
    "\n",
    "\n",
    "display(f\"Alice sent message:   {alice_bits}\")\n",
    "display(f\"Alice bases:          {alice_bases}\")\n",
    "display(f\"Bob   bases:          {bob_bases}\")\n",
    "\n",
    "\n",
    "encoded_message = encoder(alice_bits, alice_bases)\n",
    "\n",
    "#### INIZIO INTRUSIONE  ####\n",
    "\n",
    "\n",
    "intruder_bases = np.random.randint(2, size=BIT_SIZE)\n",
    "intercept = decoder(encoded_message, intruder_bases)\n",
    "display(f\"Intruder   bases:     {intruder_bases}\")\n",
    "display(f\"Intruder message:     {intercept}\")\n",
    "\n",
    "\n",
    "#### FINE INTRUSIONE ####\n",
    "\n",
    "decoded_message = decoder(encoder(intercept, intruder_bases), bob_bases)\n",
    "\n",
    "display(f\"Bob received message: {decoded_message}\")\n",
    "\n",
    "bob_key = remove_garbage(alice_bases, bob_bases, decoded_message)\n",
    "alice_key = remove_garbage(alice_bases, bob_bases, alice_bits)\n",
    "\n",
    "display(f\"Alice key:            {alice_key}\")\n",
    "display(f\"Bob key:              {bob_key}\")\n",
    "display(f\"KEY EQUAL:            {str((alice_key == bob_key).all()).upper()}\")\n",
    "\n",
    "\n",
    "SAMPLE_SIZE = 30\n",
    "SELECTION = np.random.randint(BIT_SIZE, size=SAMPLE_SIZE)\n",
    "\n",
    "\n",
    "alice_sample = sample(alice_key, SELECTION)\n",
    "bob_sample = sample(bob_key, SELECTION)\n",
    "\n",
    "display(f\"Alice sample:         {alice_sample}\")\n",
    "display(f\"Bob sample:           {bob_sample}\")"
   ]
  }
 ],
 "metadata": {
  "kernelspec": {
   "display_name": "base",
   "language": "python",
   "name": "python3"
  },
  "language_info": {
   "codemirror_mode": {
    "name": "ipython",
    "version": 3
   },
   "file_extension": ".py",
   "mimetype": "text/x-python",
   "name": "python",
   "nbconvert_exporter": "python",
   "pygments_lexer": "ipython3",
   "version": "3.9.13"
  },
  "vscode": {
   "interpreter": {
    "hash": "ad11a8bee41c5e9e49935bcfc057bf24c040f5e4c134dd6ff301c88f66bc37e6"
   }
  }
 },
 "nbformat": 4,
 "nbformat_minor": 2
}
