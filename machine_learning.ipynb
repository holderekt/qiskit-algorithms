{
 "cells": [
  {
   "cell_type": "code",
   "execution_count": null,
   "metadata": {},
   "outputs": [],
   "source": [
    "from qiskit import QuantumRegister, ClassicalRegister, QuantumCircuit, transpile,assemble\n",
    "from qiskit import Aer, execute\n",
    "from qiskit.extensions import Initialize\n",
    "from qiskit.tools.visualization import plot_histogram, plot_bloch_multivector, array_to_latex\n",
    "from qiskit.quantum_info import partial_trace, Statevector, random_statevector, Operator\n",
    "from qiskit_textbook.tools import simon_oracle\n",
    "import numpy as np\n",
    "import math\n",
    "import matplotlib.pyplot as plt\n",
    "\n",
    "\n",
    "from sklearn import datasets\n",
    "from sklearn.model_selection import train_test_split\n",
    "from sklearn.svm import SVC\n",
    "from sklearn.decomposition import PCA\n",
    "from sklearn.preprocessing import StandardScaler, MinMaxScaler\n",
    "\n",
    "\n",
    "from qiskit.circuit import QuantumCircuit, Parameter, ParameterVector\n",
    "from qiskit.circuit.library import PauliFeatureMap, ZFeatureMap, ZZFeatureMap\n",
    "from qiskit.circuit.library import TwoLocal, NLocal, RealAmplitudes, EfficientSU2\n",
    "from qiskit.circuit.library import HGate, RXGate, RYGate, RZGate, CXGate, CRXGate, CRZGate\n",
    "from qiskit_machine_learning.kernels import QuantumKernel"
   ]
  },
  {
   "cell_type": "code",
   "execution_count": null,
   "metadata": {},
   "outputs": [],
   "source": [
    "backend = Aer.get_backend(\"qasm_simulator\")\n",
    "job = execute(qc, backend,shots=1000)\n",
    "result = job.result()\n",
    "plot_histogram(result.get_counts())"
   ]
  },
  {
   "cell_type": "code",
   "execution_count": null,
   "metadata": {},
   "outputs": [],
   "source": [
    "def create_bell_state(circuit, q1, q2):\n",
    "    circuit.h(q1)\n",
    "    circuit.cnot(q1, q2)\n",
    "\n",
    "def create_bell_state(circuit, register):\n",
    "    circuit.h(register[0])\n",
    "    circuit.cnot(register[0], register[1])\n",
    "\n",
    "def teleport_gates(circuit, alice_qbit, alice_ent):\n",
    "    circuit.cnot(alice_qbit, alice_ent)\n",
    "    circuit.h(alice_qbit)\n",
    "\n",
    "\n",
    "def swap(circuit, q1, q2):\n",
    "    circuit.cnot(q1, q2)\n",
    "    circuit.cnot(q2,q1)\n",
    "    circuit.cnot(q1, q2)"
   ]
  },
  {
   "attachments": {},
   "cell_type": "markdown",
   "metadata": {},
   "source": [
    "# Data Encoding"
   ]
  },
  {
   "attachments": {},
   "cell_type": "markdown",
   "metadata": {},
   "source": [
    "## Basis state\n",
    "\n",
    "Feature binarie. Dati i campioni assegnamo equo amplitude e nulla alle altre. Dato che \n",
    "\n",
    "$\n",
    "\\sum_{i=1}^{2^N} \\alpha_i^2 = 1\n",
    "$\n",
    "\n",
    "la somma delle amplitude per ogni stato deve essere uguale ad uno, e vogliamo assegnare equa amplitude (solo per i dati presenti), questa sarà (con N numero campioni):\n",
    "\n",
    "$\n",
    "1 = \\sum_{i=1}^{N} \\alpha^2 = N\\alpha^2  \\rightarrow \\alpha = \\frac{1}{\\sqrt{N}}\n",
    "$"
   ]
  },
  {
   "cell_type": "code",
   "execution_count": null,
   "metadata": {},
   "outputs": [],
   "source": [
    "N_FEATURES = 3\n",
    "DATA = ['101', '111', '000']\n",
    "\n",
    "state_preparation = [0] * (2**N_FEATURES)\n",
    "for e in DATA:\n",
    "    state_preparation[int(e, 2)] = 1/math.sqrt(len(DATA))\n",
    "\n",
    "print(state_preparation)\n",
    "\n",
    "qc = QuantumCircuit(N_FEATURES, N_FEATURES)\n",
    "qc.initialize(state_preparation, range(N_FEATURES))\n",
    "\n",
    "\n",
    "qc.decompose().draw(output=\"mpl\")"
   ]
  },
  {
   "attachments": {},
   "cell_type": "markdown",
   "metadata": {},
   "source": [
    "## Amplitude\n",
    "\n",
    "Per rappresentare un intero dataset concateno i dati di ogni elemento. Per un dataset in $\\mathbb{R}^{n\\times n}$ avrò quindi bisogno di   \n",
    "\n",
    "\n",
    "$\n",
    "N_{qbit} = n^2 log_2(n^2)\n",
    "$\n",
    "\n",
    "\n",
    "Dato quindi un dataset $X = (\\alpha_1, \\dots , \\alpha_n)$ necessario rinormalizzare i dati in modo tale che, data una costante di normalizzazione $k$:\n",
    "\n",
    "$\n",
    "\\sum_{i=1}^{n} |(k\\alpha_i)^2| = 1\n",
    "$\n",
    "si ha quindi\n",
    "\n",
    "$\n",
    "k = \\sqrt{\\frac{1} {\\sum_{i=1}^{n} |\\alpha_i^2|}}\n",
    "$"
   ]
  },
  {
   "cell_type": "code",
   "execution_count": null,
   "metadata": {},
   "outputs": [],
   "source": [
    "DATA = np.array([[5,2,3],[1,3,1]])\n",
    "N_QBIT = math.ceil(math.log2(DATA.size))\n",
    "print(N_QBIT)\n",
    "value =  math.sqrt(1/(np.sum(DATA.flatten()**2)))\n",
    "\n",
    "state_preparation = np.append(DATA.flatten() * value, [0] * (2**N_QBIT - DATA.size))\n",
    "\n",
    "qc = QuantumCircuit(N_QBIT, N_QBIT)\n",
    "qc.initialize(state_preparation, range(N_QBIT))\n",
    "\n",
    "qc.decompose().draw(output=\"mpl\")\n"
   ]
  },
  {
   "attachments": {},
   "cell_type": "markdown",
   "metadata": {},
   "source": [
    "# Classification"
   ]
  },
  {
   "cell_type": "code",
   "execution_count": null,
   "metadata": {},
   "outputs": [],
   "source": []
  }
 ],
 "metadata": {
  "kernelspec": {
   "display_name": "base",
   "language": "python",
   "name": "python3"
  },
  "language_info": {
   "codemirror_mode": {
    "name": "ipython",
    "version": 3
   },
   "file_extension": ".py",
   "mimetype": "text/x-python",
   "name": "python",
   "nbconvert_exporter": "python",
   "pygments_lexer": "ipython3",
   "version": "3.9.13"
  },
  "vscode": {
   "interpreter": {
    "hash": "ad11a8bee41c5e9e49935bcfc057bf24c040f5e4c134dd6ff301c88f66bc37e6"
   }
  }
 },
 "nbformat": 4,
 "nbformat_minor": 2
}
