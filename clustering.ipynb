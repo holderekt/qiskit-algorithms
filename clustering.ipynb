{
 "cells": [
  {
   "cell_type": "code",
   "execution_count": null,
   "metadata": {},
   "outputs": [],
   "source": [
    "import json\n",
    "import math\n",
    "from collections import Counter\n",
    "\n",
    "import matplotlib.cm as cm\n",
    "import matplotlib.image as mpimg\n",
    "import matplotlib.pyplot as plt\n",
    "import numpy as np\n",
    "import pandas as pd\n",
    "import pywt\n",
    "from IPython.display import clear_output, display\n",
    "from qiskit import (Aer, ClassicalRegister, QuantumCircuit, QuantumRegister,\n",
    "                    assemble, execute, transpile)\n",
    "from qiskit.algorithms.optimizers import ADAM, COBYLA, GradientDescent\n",
    "from qiskit.circuit import Parameter, ParameterVector, QuantumCircuit\n",
    "from qiskit.circuit.library import (CRXGate, CRZGate, CXGate, EfficientSU2,\n",
    "                                    HGate, NLocal, PauliFeatureMap,\n",
    "                                    RealAmplitudes, RXGate, RYGate, RZGate,\n",
    "                                    TwoLocal, ZFeatureMap, ZZFeatureMap)\n",
    "from qiskit.extensions import Initialize\n",
    "from qiskit.primitives import Sampler\n",
    "from qiskit.quantum_info import (Operator, SparsePauliOp, Statevector,\n",
    "                                 partial_trace, random_statevector)\n",
    "from qiskit.tools.visualization import (array_to_latex, plot_bloch_multivector,\n",
    "                                        plot_histogram)\n",
    "from qiskit.utils import algorithm_globals\n",
    "from qiskit_machine_learning.algorithms.classifiers import (\n",
    "    VQC, NeuralNetworkClassifier)\n",
    "from qiskit_machine_learning.kernels import QuantumKernel\n",
    "from qiskit_machine_learning.neural_networks import EstimatorQNN\n",
    "from qiskit_textbook.tools import simon_oracle\n",
    "from skimage import transform\n",
    "from sklearn import datasets\n",
    "from sklearn.cluster import DBSCAN, AgglomerativeClustering, KMeans\n",
    "from sklearn.decomposition import PCA\n",
    "from sklearn.impute import KNNImputer\n",
    "from sklearn.metrics import silhouette_samples, silhouette_score\n",
    "from sklearn.mixture import GaussianMixture\n",
    "from sklearn.model_selection import train_test_split\n",
    "from sklearn.preprocessing import MinMaxScaler, OneHotEncoder, StandardScaler\n",
    "from sklearn.svm import SVC\n",
    "from sklearn import metrics\n",
    "\n",
    "algorithm_globals.random_seed = 42"
   ]
  },
  {
   "cell_type": "code",
   "execution_count": null,
   "metadata": {},
   "outputs": [],
   "source": [
    "def plot_silhouette(X, labels, n_cluster, metric='euclidean'):\n",
    "    X = X[labels != -1]\n",
    "    labels = labels[labels != -1]\n",
    "    sil_score = silhouette_score(X, labels, metric=metric)\n",
    "    sil_samples = silhouette_samples(X, labels, metric=metric)\n",
    "\n",
    "    fig, ax = plt.subplots()\n",
    "    fig.set_size_inches(18, 10)\n",
    "    ax.set_xlim([-0.1,1])\n",
    "    ax.set_ylim([0, len(X) + (n_cluster + 1)*10])\n",
    "\n",
    "    y_lower = 10\n",
    "    for i in range(n_cluster):\n",
    "        ith_cluster_silhouette_values = sil_samples[labels == i]\n",
    "        ith_cluster_silhouette_values.sort()\n",
    "\n",
    "        size_cluster_i = ith_cluster_silhouette_values.shape[0]\n",
    "        y_upper = y_lower + size_cluster_i\n",
    "\n",
    "        color = cm.nipy_spectral(float(i) / n_cluster)\n",
    "\n",
    "        ax.fill_betweenx(\n",
    "            np.arange(y_lower, y_upper),\n",
    "            0,\n",
    "            ith_cluster_silhouette_values,\n",
    "            facecolor=color,\n",
    "            edgecolor=color,\n",
    "            alpha=0.7,\n",
    "        )\n",
    "\n",
    "        ax.text(-0.05, y_lower + (0.5 * size_cluster_i), str(i))\n",
    "        y_lower = y_upper + 10\n",
    "\n",
    "\n",
    "    ax.set_title(\"The silhouette plot for the various clusters.\")\n",
    "    ax.set_xlabel(\"The silhouette coefficient values\")\n",
    "    ax.set_ylabel(\"Cluster label\")\n",
    "    ax.axvline(x=sil_score, color=\"red\", linestyle=\"--\")\n",
    "\n",
    "    plt.show()\n",
    "\n",
    "    return sil_score"
   ]
  },
  {
   "cell_type": "code",
   "execution_count": null,
   "metadata": {},
   "outputs": [],
   "source": [
    "TRAIN_SIZE = 100\n",
    "\n",
    "dataset, classes = datasets.make_moons(n_samples=TRAIN_SIZE, random_state=10)\n",
    "dataset = np.array(dataset)\n",
    "\n",
    "plt.scatter(dataset[:,0], dataset[:,1], c=classes, cmap=\"bwr_r\")"
   ]
  },
  {
   "cell_type": "code",
   "execution_count": null,
   "metadata": {},
   "outputs": [],
   "source": [
    "zz_map = ZZFeatureMap(feature_dimension=2, reps=1, entanglement='linear', insert_barriers=True)\n",
    "zz_kernel = QuantumKernel(feature_map=zz_map, quantum_instance=Aer.get_backend('statevector_simulator'))\n",
    "\n",
    "matrix_train = zz_kernel.evaluate(x_vec=dataset) \n",
    "plt.imshow(matrix_train,  interpolation='nearest', origin='upper', cmap='Blues')"
   ]
  },
  {
   "cell_type": "code",
   "execution_count": null,
   "metadata": {},
   "outputs": [],
   "source": [
    "def purity_score(y_true, y_pred):\n",
    "    contingency_matrix = metrics.cluster.contingency_matrix(y_true, y_pred)\n",
    "    return np.sum(np.amax(contingency_matrix, axis=0)) / np.sum(contingency_matrix) "
   ]
  },
  {
   "cell_type": "code",
   "execution_count": null,
   "metadata": {},
   "outputs": [],
   "source": [
    "clustering = AgglomerativeClustering(affinity='precomputed', n_clusters=2,  linkage='average').fit(matrix_train)\n",
    "\n",
    "labels = clustering.labels_\n",
    "\n",
    "print(f\"Silhouette: {silhouette_score(dataset, labels, metric = 'euclidean')}\")\n",
    "contingency_matrix = metrics.cluster.contingency_matrix(classes, labels)\n",
    "plt.matshow(contingency_matrix, )\n",
    "plt.xlabel(\"Predicted\")\n",
    "plt.ylabel(\"True\")\n",
    "print(f\"Purity: {purity_score(classes, labels)}\")"
   ]
  },
  {
   "cell_type": "code",
   "execution_count": null,
   "metadata": {},
   "outputs": [],
   "source": [
    "clustering = AgglomerativeClustering(n_clusters=2).fit(dataset)\n",
    "\n",
    "labels = clustering.labels_\n",
    "\n",
    "print(f\"Silhouette: {silhouette_score(dataset, labels, metric = 'euclidean')}\")\n",
    "contingency_matrix = metrics.cluster.contingency_matrix(classes, labels)\n",
    "plt.matshow(contingency_matrix)\n",
    "plt.xlabel(\"Predicted\")\n",
    "plt.ylabel(\"True\")\n",
    "print(f\"Purity: {purity_score(classes, labels)}\")"
   ]
  }
 ],
 "metadata": {
  "kernelspec": {
   "display_name": "base",
   "language": "python",
   "name": "python3"
  },
  "language_info": {
   "codemirror_mode": {
    "name": "ipython",
    "version": 3
   },
   "file_extension": ".py",
   "mimetype": "text/x-python",
   "name": "python",
   "nbconvert_exporter": "python",
   "pygments_lexer": "ipython3",
   "version": "3.9.13"
  },
  "vscode": {
   "interpreter": {
    "hash": "ad11a8bee41c5e9e49935bcfc057bf24c040f5e4c134dd6ff301c88f66bc37e6"
   }
  }
 },
 "nbformat": 4,
 "nbformat_minor": 2
}
