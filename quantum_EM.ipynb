{
 "cells": [
  {
   "attachments": {},
   "cell_type": "markdown",
   "metadata": {},
   "source": [
    "### Imports"
   ]
  },
  {
   "cell_type": "code",
   "execution_count": null,
   "metadata": {},
   "outputs": [],
   "source": [
    "import json\n",
    "import math\n",
    "import matplotlib.pyplot as plt\n",
    "import numpy as np\n",
    "from sklearn import datasets\n",
    "\n",
    "from qiskit import ClassicalRegister, QuantumCircuit, QuantumRegister\n",
    "from qiskit.circuit.library import PauliFeatureMap, ZFeatureMap, ZZFeatureMap\n",
    "\n",
    "from qiskit.opflow import X, Y, Z, I, CircuitStateFn\n",
    "from qiskit.opflow.state_fns import StateFn\n",
    "from qiskit.opflow.expectations import PauliExpectation, MatrixExpectation\n",
    "from qiskit.opflow.converters import CircuitSampler\n",
    "from qiskit.providers.aer import QasmSimulator\n"
   ]
  },
  {
   "attachments": {},
   "cell_type": "markdown",
   "metadata": {},
   "source": [
    "### Definizione dei dati\n",
    "\n",
    "Dati sintetici per testare l'esecuzione del codice"
   ]
  },
  {
   "cell_type": "code",
   "execution_count": null,
   "metadata": {},
   "outputs": [],
   "source": [
    "DATA = np.array([[0.8, 0.8, 0.8, 0.8], [1, 1, 1, 1]])\n",
    "FEATURES = DATA.shape[1]\n",
    "SIZE = DATA.shape[0]"
   ]
  },
  {
   "cell_type": "markdown",
   "metadata": {},
   "source": [
    "### Circuito enconding\n",
    "\n",
    "Viene utilizzata una ZZFeatureMap"
   ]
  },
  {
   "cell_type": "code",
   "execution_count": null,
   "metadata": {},
   "outputs": [],
   "source": [
    "encode_map = ZZFeatureMap(feature_dimension=FEATURES, reps=1, entanglement='linear', insert_barriers=True)\n",
    "encode_circuit = encode_map.bind_parameters(DATA[1])\n",
    "encode_circuit.decompose().draw(output='mpl')"
   ]
  },
  {
   "attachments": {},
   "cell_type": "markdown",
   "metadata": {},
   "source": [
    "## EM Distance\n",
    "\n",
    "\n",
    "Dati due stati $|\\psi>$ e $|\\phi>$, si definisce la distanza EM approssimata come: \n",
    "\n",
    "\n",
    "$\n",
    "\\widetilde{D}_{EM} = max_{H_i}| <\\phi|H| \\phi> - <\\psi|H| \\psi>|  :  ||H||_L \\leq 1\n",
    "$\n",
    "\n",
    "dato $O_n$ insieme degli observbles su n qbit, si definisce $H$\n",
    "\n",
    "$\n",
    "H \\in O_n : ||H||_L = 2 max_{i = 1,\\dots,n} (min\\{{||H- H_i ||_{\\inf} : H_i \\in O_n \\text{  identità sull'iesimo qbit}}\\})\n",
    "$\n",
    "\n",
    "Il valore $<\\phi|H| \\phi>$ equivale al calcolo dell'expectation dell'osservable H rispetto allo stato $|\\phi>$\n"
   ]
  },
  {
   "attachments": {},
   "cell_type": "markdown",
   "metadata": {},
   "source": [
    "### Esecuzione passo passo\n",
    "\n",
    "generate_pauli(n): Genera le combinazioni di operatori pauli (X,Y,Z) sui singoli qbit per \n",
    "generare un subset di obsevables con constante di lipshitz minore o uguale a 1\n",
    "\n",
    "Nello specifico, gli observables presi in considerazione sono:\n",
    "\n",
    "- Pauli Z per ogni qbit\n",
    "- Per ogni qbit k:\n",
    "    - Per ogni qbit j < k applico Pauli X\n",
    "    - Per il qbit k applico Pauli X se PARI e Pauli Y se DISPARI\n",
    "    - Per ogni qbit k < j applico Pauli Z\n",
    "\n",
    "Vegono considerate quindi n+1 osservabili. Ad esempio, per n=4 qbit verrano generati i gate:\n",
    "ZZZZ, YZZZ, XXZZ, XXYZ, XXXX\n",
    "\n"
   ]
  },
  {
   "cell_type": "code",
   "execution_count": null,
   "metadata": {},
   "outputs": [],
   "source": [
    "def even(x):\n",
    "    return (x % 2) == 0\n",
    "\n",
    "\n",
    "def generate_pauli(n):\n",
    "    hamiltonians = []\n",
    "\n",
    "    h = 1\n",
    "    for _ in range(n):\n",
    "        h = h^Z\n",
    "    hamiltonians.append(h)\n",
    "\n",
    "    for k in range(n):\n",
    "       \n",
    "        h = 1\n",
    "\n",
    "        if(k != 0):\n",
    "            for _ in range(k):\n",
    "                h = h^X\n",
    "\n",
    "        if even(k+1):\n",
    "            h = h^X\n",
    "        else:\n",
    "            h = h^Y\n",
    "\n",
    "        if (k+1 != n):\n",
    "            for _ in range(k+1, n):\n",
    "                h = h^Z\n",
    "\n",
    "\n",
    "        hamiltonians.append(h)\n",
    "\n",
    "    return hamiltonians"
   ]
  },
  {
   "attachments": {},
   "cell_type": "markdown",
   "metadata": {},
   "source": [
    "Compongo il circuito per i due vettori da confrontare.\n",
    "\n",
    "Dati due vettori x,y viene applicata una ZZFeature map per l'encoding rispettivamente nei stati $|\\psi>$ e $|\\phi>$.\n",
    "\n",
    "Viene successivamente composto il circuito che calcola:\n",
    "$<\\phi|H| \\phi>$ e $<\\psi|H| \\psi>$\n",
    "\n",
    "con H matrice generata dalla funzione generate_pauli\n"
   ]
  },
  {
   "cell_type": "code",
   "execution_count": null,
   "metadata": {},
   "outputs": [],
   "source": [
    "x = CircuitStateFn(encode_map.bind_parameters(DATA[0]))\n",
    "y = CircuitStateFn(encode_map.bind_parameters(DATA[1]))\n",
    "n = x.num_qubits\n",
    "\n",
    "observables = generate_pauli(n)\n",
    "\n",
    "circuit = x.adjoint().compose(observables[4]).compose(x)\n",
    "\n",
    "print(circuit)"
   ]
  },
  {
   "attachments": {},
   "cell_type": "markdown",
   "metadata": {},
   "source": [
    "Calcolo dell'expected value, questo viene calcolato per ogni obsevable e per entrambi i vettori, viene calcolata quindi la differenza in valore assoluto e presa la maggiore, seguendo la definizione di distanza EM"
   ]
  },
  {
   "cell_type": "code",
   "execution_count": null,
   "metadata": {},
   "outputs": [],
   "source": [
    "max = 0\n",
    "\n",
    "for h in observables:\n",
    "\n",
    "    print(f\"Obeservable [{h}]\")\n",
    "    circuit_x = x.adjoint().compose(h).compose(x)\n",
    "    circuit_y = y.adjoint().compose(h).compose(y)\n",
    "\n",
    "    EM = abs(circuit_x.eval().real - circuit_y.eval().real)\n",
    "\n",
    "    print(f'''EM Distance\n",
    "       |E(x) - E(y)| = {abs(circuit_x.eval().real - circuit_y.eval().real)}''')\n",
    "        \n",
    "    print('\\n')\n",
    "\n",
    "print(f\"Final EM: {max}\")\n"
   ]
  },
  {
   "attachments": {},
   "cell_type": "markdown",
   "metadata": {},
   "source": [
    "### EM Distance function\n",
    "Calcolo della distanza con data enconding usando una ZZFeature map"
   ]
  },
  {
   "cell_type": "code",
   "execution_count": null,
   "metadata": {},
   "outputs": [],
   "source": [
    "def em_distance_approximate(data_1, data_2, encode_map, observables, simulator):\n",
    "\n",
    "    x = CircuitStateFn(encode_map.bind_parameters(data_1))\n",
    "    y = CircuitStateFn(encode_map.bind_parameters(data_2))\n",
    "\n",
    "    em = 0\n",
    "\n",
    "    for h in observables:\n",
    "\n",
    "        measurable_x = StateFn(h, is_measurement=True).compose(x)\n",
    "        measurable_y = StateFn(h, is_measurement=True).compose(y)\n",
    "\n",
    "        expectation_x = PauliExpectation().convert(measurable_x)\n",
    "        expectation_y = PauliExpectation().convert(measurable_y)\n",
    "\n",
    "        sampler_x = CircuitSampler(simulator).convert(expectation_x)\n",
    "        sampler_y = CircuitSampler(simulator).convert(expectation_y)\n",
    "\n",
    "        current_expectation = abs(sampler_x.eval().real - sampler_y.eval().real)\n",
    "\n",
    "        if current_expectation > em:\n",
    "            em = current_expectation\n",
    "\n",
    "    return em\n",
    "\n",
    "def em_distance_exact(data_1, data_2, encode_map, observables):\n",
    "\n",
    "    x = CircuitStateFn(encode_map.bind_parameters(data_1))\n",
    "    y = CircuitStateFn(encode_map.bind_parameters(data_2))\n",
    "\n",
    "    em = 0\n",
    "\n",
    "    for h in observables:\n",
    "\n",
    "        circuit_x = x.adjoint().compose(h).compose(x)\n",
    "        circuit_y = y.adjoint().compose(h).compose(y)\n",
    "\n",
    "        current_expectation = abs(circuit_x.eval().real - circuit_y.eval().real)\n",
    "\n",
    "        if current_expectation > em:\n",
    "            em = current_expectation\n",
    "\n",
    "    return em\n",
    "\n",
    "\n",
    "def em_dissimilarity_matrix(dataset, approximate = False):\n",
    "\n",
    "    encode_map = ZZFeatureMap(feature_dimension=dataset.shape[1], reps=1, entanglement='linear', insert_barriers=True)\n",
    "    n = encode_map.num_qubits\n",
    "    observables = generate_pauli(n)\n",
    "    mat = np.zeros((dataset.shape[0], dataset.shape[0]))\n",
    "\n",
    "    if approximate:\n",
    "        simulator = QasmSimulator()\n",
    "\n",
    "        for i in range(dataset.shape[0]):\n",
    "            for j in range(i):\n",
    "                dis = em_distance_approximate(dataset[i], dataset[j], encode_map, observables, simulator)\n",
    "                mat[i,j] = dis\n",
    "                mat[j,i] = dis\n",
    "    else:\n",
    "\n",
    "        for i in range(dataset.shape[0]):\n",
    "            for j in range(i):\n",
    "                dis = em_distance_exact(dataset[i], dataset[j], encode_map, observables)\n",
    "                mat[i,j] = dis\n",
    "                mat[j,i] = dis\n",
    "\n",
    "    return mat\n",
    "\n",
    "def euclidean_matrix(dataset):\n",
    "    mat = np.zeros((dataset.shape[0], dataset.shape[0]))\n",
    "\n",
    "    for i in range(dataset.shape[0]):\n",
    "        for j in range(i):\n",
    "            dis = np.sqrt(np.sum((dataset[i] - dataset[j])**2))\n",
    "            mat[i,j] = dis\n",
    "            mat[j,i] = dis\n",
    "\n",
    "    return mat\n",
    "\n",
    "\n",
    "def manhattan_matrix(dataset):\n",
    "    mat = np.zeros((dataset.shape[0], dataset.shape[0]))\n",
    "\n",
    "    for i in range(dataset.shape[0]):\n",
    "        for j in range(i):\n",
    "            dis = np.sum(np.abs(dataset[i] - dataset[j]))\n",
    "            mat[i,j] = dis\n",
    "            mat[j,i] = dis\n",
    "\n",
    "    return mat"
   ]
  },
  {
   "cell_type": "code",
   "execution_count": null,
   "metadata": {},
   "outputs": [],
   "source": [
    "iris = datasets.load_iris()['data'][15:35, :]\n",
    "em_matrix = em_dissimilarity_matrix(iris, approximate=False)"
   ]
  },
  {
   "cell_type": "code",
   "execution_count": null,
   "metadata": {},
   "outputs": [],
   "source": [
    "%matplotlib inline\n",
    "\n",
    "fig, axs = plt.subplots(1,3)\n",
    "fig.set_size_inches(15,6)\n",
    "\n",
    "axs[0].matshow(em_matrix, cmap='RdPu')\n",
    "axs[0].set_title(\"EM Distance\")\n",
    "axs[1].matshow(manhattan_matrix(iris), cmap='RdPu')\n",
    "axs[1].set_title(\"Manhattan Distance\")\n",
    "axs[2].matshow(euclidean_matrix(iris), cmap='RdPu')\n",
    "axs[2].set_title(\"Euclidean Distance\")\n",
    "\n",
    "fig.show()"
   ]
  },
  {
   "cell_type": "code",
   "execution_count": null,
   "metadata": {},
   "outputs": [],
   "source": [
    "blobs, classes = datasets.make_blobs(n_samples=50, random_state=10, n_features=2, centers=2)\n",
    "blobs = np.array(blobs)\n",
    "\n",
    "fig = plt.figure()\n",
    "ax = fig.add_subplot(projection='3d')\n",
    "ax.scatter(blobs[:,0], blobs[:,1], c=classes, cmap=\"Accent\")"
   ]
  },
  {
   "cell_type": "code",
   "execution_count": null,
   "metadata": {},
   "outputs": [],
   "source": [
    "em_matrix = em_dissimilarity_matrix(blobs)"
   ]
  },
  {
   "cell_type": "code",
   "execution_count": null,
   "metadata": {},
   "outputs": [],
   "source": [
    "%matplotlib inline\n",
    "\n",
    "fig, axs = plt.subplots(1,3)\n",
    "fig.set_size_inches(15,6)\n",
    "\n",
    "axs[0].matshow(em_matrix, cmap='RdPu')\n",
    "axs[0].set_title(\"EM Distance\")\n",
    "axs[1].matshow(manhattan_matrix(blobs), cmap='RdPu')\n",
    "axs[1].set_title(\"Manhattan Distance\")\n",
    "axs[2].matshow(euclidean_matrix(blobs), cmap='RdPu')\n",
    "axs[2].set_title(\"Euclidean Distance\")\n",
    "\n",
    "fig.show()"
   ]
  }
 ],
 "metadata": {
  "kernelspec": {
   "display_name": "base",
   "language": "python",
   "name": "python3"
  },
  "language_info": {
   "codemirror_mode": {
    "name": "ipython",
    "version": 3
   },
   "file_extension": ".py",
   "mimetype": "text/x-python",
   "name": "python",
   "nbconvert_exporter": "python",
   "pygments_lexer": "ipython3",
   "version": "3.9.13 (main, Aug 25 2022, 23:26:10) \n[GCC 11.2.0]"
  },
  "vscode": {
   "interpreter": {
    "hash": "ad11a8bee41c5e9e49935bcfc057bf24c040f5e4c134dd6ff301c88f66bc37e6"
   }
  }
 },
 "nbformat": 4,
 "nbformat_minor": 2
}
